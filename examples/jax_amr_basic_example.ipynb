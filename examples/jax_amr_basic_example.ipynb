{
  "nbformat": 4,
  "nbformat_minor": 0,
  "metadata": {
    "colab": {
      "provenance": [],
      "toc_visible": true,
      "include_colab_link": true
    },
    "kernelspec": {
      "name": "python3",
      "display_name": "Python 3"
    },
    "language_info": {
      "name": "python"
    }
  },
  "cells": [
    {
      "cell_type": "markdown",
      "metadata": {
        "id": "view-in-github",
        "colab_type": "text"
      },
      "source": [
        "<a href=\"https://colab.research.google.com/github/JA4S/JAX-AMR/blob/main/examples/jax_amr_basic_example.ipynb\" target=\"_parent\"><img src=\"https://colab.research.google.com/assets/colab-badge.svg\" alt=\"Open In Colab\"/></a>"
      ]
    },
    {
      "cell_type": "markdown",
      "source": [
        "# Install JAX-AMR and import relevant libraries"
      ],
      "metadata": {
        "id": "9fvyrS5uVz13"
      }
    },
    {
      "cell_type": "code",
      "execution_count": null,
      "metadata": {
        "id": "_LgbRly93mu-"
      },
      "outputs": [],
      "source": [
        "# Copyright © 2025 Haocheng Wen, Faxuan Luo\n",
        "# SPDX-License-Identifier: MIT\n",
        "\n",
        "!pip install git+https://github.com/JA4S/JAX-AMR.git\n",
        "!wget https://raw.githubusercontent.com/JA4S/JAX-AMR/main/examples/simple_solver.py"
      ]
    },
    {
      "cell_type": "code",
      "source": [
        "from jaxamr import amr, amraux\n",
        "import simple_solver as solver\n",
        "\n",
        "import jax\n",
        "import jax.numpy as jnp\n",
        "import matplotlib.pyplot as plt\n",
        "from tqdm.auto import tqdm\n",
        "\n",
        "jax.config.update(\"jax_enable_x64\", True)\n",
        "jax.config.update('jax_platform_name', 'cpu')"
      ],
      "metadata": {
        "id": "VPDS3CM66jXS"
      },
      "execution_count": null,
      "outputs": []
    },
    {
      "cell_type": "markdown",
      "source": [
        "# Set computation parameters"
      ],
      "metadata": {
        "id": "DEIT6_sPV76y"
      }
    },
    {
      "cell_type": "code",
      "source": [
        "Lx = 1.0\n",
        "Ly = 1.0\n",
        "\n",
        "nx = 200\n",
        "ny = 200\n",
        "\n",
        "dx = Lx/nx\n",
        "dy = Ly/ny\n",
        "\n",
        "base_grid = {'Lx':Lx,'Ly':Ly,'Nx':nx,'Ny':ny}\n",
        "\n",
        "n_block = [\n",
        "    [1, 1],  # Level 0\n",
        "    [20, 20], # Level 1\n",
        "    [2, 2],  # Level 2\n",
        "    [2, 2],  # Level 3\n",
        "    [2, 2]   # Level 4\n",
        "] # x-direction, y-direction\n",
        "\n",
        "template_node_num = 1\n",
        "\n",
        "buffer_num = 2\n",
        "\n",
        "refinement_tolerance = {\n",
        "    'density': 5.0,\n",
        "    'velocity': 0.5\n",
        "}\n",
        "\n",
        "amr_config = {'base_grid':base_grid,\n",
        "        'n_block':n_block,\n",
        "        'template_node_num':template_node_num,\n",
        "        'buffer_num':buffer_num,\n",
        "        'refinement_tolerance':refinement_tolerance\n",
        "}\n",
        "\n",
        "amr.set_amr(amr_config)\n",
        "\n",
        "dx = [dx] # Grid size in refinement levels\n",
        "dy = [dy]\n",
        "for i, (bx, by) in enumerate(n_block[1:], 1):\n",
        "    dx.append(Lx/nx / (2.0**i))\n",
        "    dy.append(Ly/ny / (2.0**i))"
      ],
      "metadata": {
        "id": "MD3wF6r86Duk"
      },
      "execution_count": null,
      "outputs": []
    },
    {
      "cell_type": "markdown",
      "source": [
        "# Initilization"
      ],
      "metadata": {
        "id": "oDgvtIkWWDk_"
      }
    },
    {
      "cell_type": "code",
      "source": [
        "X, Y, U = solver.initialize(nx, ny)\n",
        "\n",
        "blk_data0 = jnp.array([U])\n",
        "\n",
        "blk_info0 = {\n",
        "      'number': 1,\n",
        "      'index': jnp.array([0, 0, 0]),\n",
        "      'glob_index': jnp.array([[0, 0]]),\n",
        "      'neighbor_index': jnp.array([[-1, -1, -1, -1]])\n",
        "        }"
      ],
      "metadata": {
        "id": "8sc3isWU8jrF"
      },
      "execution_count": null,
      "outputs": []
    },
    {
      "cell_type": "markdown",
      "source": [
        "# AMR main loop"
      ],
      "metadata": {
        "id": "KmHvyTl-WISM"
      }
    },
    {
      "cell_type": "code",
      "source": [
        "dt = 0.00006 * 8  # time step\n",
        "\n",
        "nt = 30 # computation step\n",
        "\n",
        "amr_update_step = 2 # AMR update step\n",
        "\n",
        "amr_initialized = False\n",
        "\n",
        "for step in tqdm(range(nt), desc=\"Progress\", unit=\"step\"):\n",
        "\n",
        "    if amr_initialized == False :\n",
        "\n",
        "        blk_data1, blk_info1, max_blk_num1 = amr.initialize(1, blk_data0, blk_info0, 'density', dx[1], dy[1])\n",
        "        blk_data2, blk_info2, max_blk_num2 = amr.initialize(2, blk_data1, blk_info1, 'density', dx[2], dy[2])\n",
        "        blk_data3, blk_info3, max_blk_num3 = amr.initialize(3, blk_data2, blk_info2, 'density', dx[3], dy[3])\n",
        "\n",
        "        amr_initialized = True\n",
        "\n",
        "    elif (step % amr_update_step == 0):\n",
        "        blk_data1, blk_info1, max_blk_num1 = amr.update(1, blk_data0, blk_info0, 'density', dx[1], dy[1], blk_data1, blk_info1, max_blk_num1)\n",
        "        blk_data2, blk_info2, max_blk_num2 = amr.update(2, blk_data1, blk_info1, 'density', dx[2], dy[2], blk_data2, blk_info2, max_blk_num2)\n",
        "        blk_data3, blk_info3, max_blk_num3 = amr.update(3, blk_data2, blk_info2, 'density', dx[3], dy[3], blk_data3, blk_info3, max_blk_num3)\n",
        "\n",
        "    '''Crossover advance'''\n",
        "    for _ in range(2):\n",
        "        for _ in range(2):\n",
        "            for _ in range(2):\n",
        "                blk_data3 = solver.rk2(3, blk_data2, dx[3], dy[3], dt/8.0, blk_data3, blk_info3)\n",
        "            blk_data2 = solver.rk2(2, blk_data1, dx[2], dy[2], dt/4.0, blk_data2, blk_info2)\n",
        "        blk_data1 = solver.rk2(1, blk_data0, dx[1], dy[1], dt/2.0, blk_data1, blk_info1)\n",
        "    blk_data0 = solver.rk2_L0(blk_data0, dx[0], dy[0], dt)\n",
        "\n",
        "\n",
        "    '''Synchronous advance'''\n",
        "    #blk_data3 = solver.rk2(3, blk_data2, dx[3], dy[3], dt/8.0, blk_data3, blk_info3)\n",
        "    #blk_data2 = solver.rk2(2, blk_data1, dx[2], dy[2], dt/8.0, blk_data2, blk_info2)\n",
        "    #blk_data1 = solver.rk2(1, blk_data0, dx[1], dy[1], dt/8.0, blk_data1, blk_info1)\n",
        "    #blk_data0 = solver.rk2_L0(blk_data0, dx[0], dy[0], dt/8.0)\n",
        "\n",
        "\n",
        "    blk_data2 = amr.interpolate_fine_to_coarse(3, blk_data2, blk_data3, blk_info3)\n",
        "    blk_data1 = amr.interpolate_fine_to_coarse(2, blk_data1, blk_data2, blk_info2)\n",
        "    blk_data0 = amr.interpolate_fine_to_coarse(1, blk_data0, blk_data1, blk_info1)"
      ],
      "metadata": {
        "id": "VYXUngVyE3CZ"
      },
      "execution_count": null,
      "outputs": []
    },
    {
      "cell_type": "markdown",
      "source": [
        "# Result Visualization"
      ],
      "metadata": {
        "id": "xuxp3yA0WNTV"
      }
    },
    {
      "cell_type": "code",
      "source": [
        "# Density Contour\n",
        "plt.figure(figsize=(10, 8))\n",
        "ax = plt.gca()\n",
        "\n",
        "component = 0\n",
        "vrange = (0, 1)\n",
        "fig = amraux.plot_block_data(blk_data0[:, component], blk_info0, ax, vrange) # Level 0\n",
        "fig = amraux.plot_block_data(blk_data1[:, component], blk_info1, ax, vrange) # Level 1\n",
        "fig = amraux.plot_block_data(blk_data2[:, component], blk_info2, ax, vrange) # Level 2\n",
        "fig = amraux.plot_block_data(blk_data3[:, component], blk_info3, ax, vrange) # Level 3\n",
        "\n",
        "plt.colorbar(fig, ax=ax, label='Density')\n",
        "ax.set_xlabel('X')\n",
        "ax.set_ylabel('Y')\n",
        "plt.axis('equal')\n",
        "plt.show()\n",
        "\n",
        "# Refinement Level\n",
        "plt.figure(figsize=(10, 8))\n",
        "ax = plt.gca()\n",
        "\n",
        "component = 0\n",
        "vrange = (0, 3)\n",
        "fig = amraux.plot_block_data(0*jnp.ones_like(blk_data0[:, component]), blk_info0, ax, vrange) # Level 0\n",
        "fig = amraux.plot_block_data(1*jnp.ones_like(blk_data1[:, component]), blk_info1, ax, vrange) # Level 1\n",
        "fig = amraux.plot_block_data(2*jnp.ones_like(blk_data2[:, component]), blk_info2, ax, vrange) # Level 2\n",
        "fig = amraux.plot_block_data(3*jnp.ones_like(blk_data3[:, component]), blk_info3, ax, vrange) # Level 3\n",
        "\n",
        "plt.colorbar(fig, ax=ax, label='Refinement Level')\n",
        "ax.set_xlabel('X')\n",
        "ax.set_ylabel('Y')\n",
        "plt.axis('equal')\n",
        "plt.show()"
      ],
      "metadata": {
        "id": "fQYNp7eK8nfg"
      },
      "execution_count": null,
      "outputs": []
    }
  ]
}