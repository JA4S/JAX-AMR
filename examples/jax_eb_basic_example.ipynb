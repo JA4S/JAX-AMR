{
  "nbformat": 4,
  "nbformat_minor": 0,
  "metadata": {
    "colab": {
      "provenance": [],
      "toc_visible": true,
      "authorship_tag": "ABX9TyOuzGApO5wJlJplQTV+0+jX",
      "include_colab_link": true
    },
    "kernelspec": {
      "name": "python3",
      "display_name": "Python 3"
    },
    "language_info": {
      "name": "python"
    }
  },
  "cells": [
    {
      "cell_type": "markdown",
      "metadata": {
        "id": "view-in-github",
        "colab_type": "text"
      },
      "source": [
        "<a href=\"https://colab.research.google.com/github/JA4S/JAX-AMR/blob/main/examples/jax_eb_basic_example.ipynb\" target=\"_parent\"><img src=\"https://colab.research.google.com/assets/colab-badge.svg\" alt=\"Open In Colab\"/></a>"
      ]
    },
    {
      "cell_type": "markdown",
      "source": [
        "#Install JAX-AMR and import relevant libraries"
      ],
      "metadata": {
        "id": "qqOUhanxawh4"
      }
    },
    {
      "cell_type": "code",
      "execution_count": null,
      "metadata": {
        "id": "7UwWSrrQZ1Vk"
      },
      "outputs": [],
      "source": [
        "# Copyright © 2025 Haocheng Wen\n",
        "# SPDX-License-Identifier: MIT\n",
        "\n",
        "!pip install git+https://github.com/JA4S/JAX-AMR.git\n",
        "!wget https://raw.githubusercontent.com/JA4S/JAX-AMR/main/examples/simple_solver_eb.py"
      ]
    },
    {
      "cell_type": "code",
      "source": [
        "from jaxeb import eb\n",
        "import simple_solver_eb as solver\n",
        "\n",
        "import jax\n",
        "import jax.numpy as jnp\n",
        "import matplotlib.pyplot as plt\n",
        "from tqdm.auto import tqdm\n",
        "\n",
        "jax.config.update(\"jax_enable_x64\", True)\n",
        "jax.config.update('jax_platform_name', 'cpu')"
      ],
      "metadata": {
        "id": "qP19_yCVZ-H-"
      },
      "execution_count": 2,
      "outputs": []
    },
    {
      "cell_type": "markdown",
      "source": [
        "#Set computation parameters"
      ],
      "metadata": {
        "id": "3fNKjIx5azhW"
      }
    },
    {
      "cell_type": "code",
      "source": [
        "x_min, y_min = 0.0, 0.0\n",
        "Lx = 2.0\n",
        "Ly = 1.0\n",
        "\n",
        "nx = 400\n",
        "ny = 200\n",
        "\n",
        "dx = Lx / nx\n",
        "dy = Ly / ny\n",
        "\n",
        "# Generate vertices of a circle\n",
        "center_x = 1.25\n",
        "center_y = 0.5\n",
        "radius = 0.2\n",
        "num_points = 72\n",
        "angles = jnp.linspace(2 * jnp.pi, 0, num_points, endpoint=False)\n",
        "x_points = center_x + radius * jnp.cos(angles)\n",
        "y_points = center_y + radius * jnp.sin(angles)\n",
        "\n",
        "polygon_vertices = jnp.stack([x_points, y_points], axis=1)\n",
        "\n",
        "if jnp.allclose(polygon_vertices[0], polygon_vertices[-1]):\n",
        "    polygon_vertices = polygon_vertices[:-1]\n",
        "    print('Warning: The last vertice is coincided with the fisrt one. The last vertice is deleted.')"
      ],
      "metadata": {
        "id": "-fGA2PFeaz1m"
      },
      "execution_count": 3,
      "outputs": []
    },
    {
      "cell_type": "markdown",
      "source": [
        "#Initialize EB"
      ],
      "metadata": {
        "id": "SDHbqtbubcnb"
      }
    },
    {
      "cell_type": "code",
      "source": [
        "cell_info = eb.initialize(polygon_vertices, x_min, y_min, nx, ny, dx, dy, visual=True)"
      ],
      "metadata": {
        "id": "3HU3hkSCbWM2"
      },
      "execution_count": null,
      "outputs": []
    },
    {
      "cell_type": "markdown",
      "source": [
        "#initialize flow field and compute"
      ],
      "metadata": {
        "id": "w_dZNpWIbgAe"
      }
    },
    {
      "cell_type": "code",
      "source": [
        "X, Y, U = solver.initialize(x_min, y_min, Lx, Ly, nx, ny, cell_info['cell_type'])\n",
        "\n",
        "cfl = 0.3\n",
        "nt = 300 # computation step\n",
        "\n",
        "for step in tqdm(range(nt), desc=\"Progress\", unit=\"step\"):\n",
        "\n",
        "    U = solver.rk2(U, dx, dy, cfl, cell_info)"
      ],
      "metadata": {
        "id": "RMPNZ5a7bxTT"
      },
      "execution_count": null,
      "outputs": []
    },
    {
      "cell_type": "markdown",
      "source": [
        "#Result Visualization"
      ],
      "metadata": {
        "id": "q-bMeMKWb8Vu"
      }
    },
    {
      "cell_type": "code",
      "source": [
        "fig, ax = plt.subplots(figsize=(16, 8))\n",
        "ax.set_aspect('equal', adjustable='box')\n",
        "ax.set_xlabel(\"X\")\n",
        "ax.set_ylabel(\"Y\")\n",
        "plt.pcolormesh(X, Y, U[0,:,:], cmap='jet')\n",
        "poly_x, poly_y = jnp.array(polygon_vertices)[:,0], jnp.array(polygon_vertices)[:,1]\n",
        "plt.fill(poly_x, poly_y, color='black', alpha=1)\n",
        "plt.colorbar()\n",
        "plt.show()"
      ],
      "metadata": {
        "id": "gqrxrtdhcTAW"
      },
      "execution_count": null,
      "outputs": []
    }
  ]
}